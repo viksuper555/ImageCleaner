{
 "cells": [
  {
   "metadata": {
    "ExecuteTime": {
     "end_time": "2025-02-07T11:37:52.032851Z",
     "start_time": "2025-02-07T11:37:52.029918Z"
    }
   },
   "cell_type": "code",
   "source": [
    "import os\n",
    "from datasets import load_dataset\n",
    "import random"
   ],
   "id": "54ded0198e5c78a8",
   "outputs": [],
   "execution_count": 4
  },
  {
   "cell_type": "code",
   "id": "initial_id",
   "metadata": {
    "collapsed": true
   },
   "source": "images_dataset = load_dataset(\"rajuptvs/ecommerce_products_clip\", split=\"train\")",
   "outputs": [],
   "execution_count": null
  },
  {
   "metadata": {},
   "cell_type": "code",
   "source": [
    "os.makedirs(\"data\", exist_ok=True)\n",
    "for i, sample in enumerate(images_dataset):\n",
    "    img = sample[\"image\"]\n",
    "    img.save(os.path.join(\"data\", f\"image_{i}.jpg\"))\n",
    "\n",
    "    if random.random() < 0.01:\n",
    "        for j in range(random.randint(1, 3)):\n",
    "            img.save(os.path.join(\"data\", f\"image_{i}_copy{j}.jpg\"))"
   ],
   "id": "daa10909fb9eef7",
   "outputs": [],
   "execution_count": null
  }
 ],
 "metadata": {
  "kernelspec": {
   "display_name": "Python 3",
   "language": "python",
   "name": "python3"
  },
  "language_info": {
   "codemirror_mode": {
    "name": "ipython",
    "version": 2
   },
   "file_extension": ".py",
   "mimetype": "text/x-python",
   "name": "python",
   "nbconvert_exporter": "python",
   "pygments_lexer": "ipython2",
   "version": "2.7.6"
  }
 },
 "nbformat": 4,
 "nbformat_minor": 5
}
